{
 "cells": [
  {
   "cell_type": "code",
   "execution_count": 1,
   "metadata": {},
   "outputs": [
    {
     "name": "stderr",
     "output_type": "stream",
     "text": [
      "\u001b[32m2023-10-15 16:17:53.933\u001b[0m | \u001b[34m\u001b[1mDEBUG   \u001b[0m | \u001b[36mutils.load_env_values\u001b[0m:\u001b[36m<module>\u001b[0m:\u001b[36m5\u001b[0m - \u001b[34m\u001b[1mLoading environment variables...\u001b[0m\n",
      "\u001b[32m2023-10-15 16:17:53.934\u001b[0m | \u001b[34m\u001b[1mDEBUG   \u001b[0m | \u001b[36mutils.load_env_values\u001b[0m:\u001b[36m<module>\u001b[0m:\u001b[36m8\u001b[0m - \u001b[34m\u001b[1mLoaded True environment variables\u001b[0m\n",
      "\u001b[32m2023-10-15 16:17:54.100\u001b[0m | \u001b[1mINFO    \u001b[0m | \u001b[36m__main__\u001b[0m:\u001b[36m<module>\u001b[0m:\u001b[36m13\u001b[0m - \u001b[1m--------------------------------------------------- Getting costs for mexico-city vs buenos-aires ----------------------------------------------------\u001b[0m\n",
      "\u001b[32m2023-10-15 16:17:54.101\u001b[0m | \u001b[34m\u001b[1mDEBUG   \u001b[0m | \u001b[36mutils.cost_getter\u001b[0m:\u001b[36mget_city_costs_from_web\u001b[0m:\u001b[36m43\u001b[0m - \u001b[34m\u001b[1mGetting costs from https://www.expatistan.com/cost-of-living/mexico-city?currency=MXN\u001b[0m\n",
      "\u001b[32m2023-10-15 16:17:54.845\u001b[0m | \u001b[34m\u001b[1mDEBUG   \u001b[0m | \u001b[36mutils.cost_getter\u001b[0m:\u001b[36mget_city_costs\u001b[0m:\u001b[36m89\u001b[0m - \u001b[34m\u001b[1msaved 52 costs to pickle file from url\u001b[0m\n",
      "\u001b[32m2023-10-15 16:17:54.848\u001b[0m | \u001b[34m\u001b[1mDEBUG   \u001b[0m | \u001b[36mutils.cost_getter\u001b[0m:\u001b[36mget_city_costs_from_web\u001b[0m:\u001b[36m43\u001b[0m - \u001b[34m\u001b[1mGetting costs from https://www.expatistan.com/cost-of-living/buenos-aires?currency=MXN\u001b[0m\n",
      "\u001b[32m2023-10-15 16:17:55.603\u001b[0m | \u001b[34m\u001b[1mDEBUG   \u001b[0m | \u001b[36mutils.cost_getter\u001b[0m:\u001b[36mget_city_costs\u001b[0m:\u001b[36m89\u001b[0m - \u001b[34m\u001b[1msaved 52 costs to pickle file from url\u001b[0m\n"
     ]
    }
   ],
   "source": [
    "from loguru import logger\n",
    "from datetime import datetime\n",
    "\n",
    "now = datetime.now().strftime(\"%Y-%m-%d\")\n",
    "\n",
    "logger.add(f\"logs/log_{now}.log\")\n",
    "\n",
    "from utils.cost_getter import get_city_costs\n",
    "\n",
    "city_1 = \"mexico-city\"\n",
    "city_2 = \"buenos-aires\"\n",
    "\n",
    "logger.info(f\" Getting costs for {city_1} vs {city_2} \".center(150, \"-\"))\n",
    "\n",
    "city_1_data = get_city_costs(city_1)\n",
    "city_2_data = get_city_costs(city_2)"
   ]
  },
  {
   "cell_type": "code",
   "execution_count": 2,
   "metadata": {},
   "outputs": [
    {
     "name": "stderr",
     "output_type": "stream",
     "text": [
      "\u001b[32m2023-10-15 16:17:55.613\u001b[0m | \u001b[1mINFO    \u001b[0m | \u001b[36mutils.cost_comparator\u001b[0m:\u001b[36mcompare_cost\u001b[0m:\u001b[36m65\u001b[0m - \u001b[1mComparing costs using MXN as currency\u001b[0m\n",
      "\u001b[32m2023-10-15 16:17:55.616\u001b[0m | \u001b[1mINFO    \u001b[0m | \u001b[36m__main__\u001b[0m:\u001b[36m<module>\u001b[0m:\u001b[36m6\u001b[0m - \u001b[1mCosts have been successfully compared.\u001b[0m\n"
     ]
    }
   ],
   "source": [
    "from utils.cost_comparator import compare_cost, generate_cost_comparison_strings\n",
    "\n",
    "compared_costs = compare_cost(city_1_data, city_2_data)\n",
    "results = generate_cost_comparison_strings(compared_costs)\n",
    "\n",
    "logger.info(\"Costs have been successfully compared.\")\n"
   ]
  },
  {
   "cell_type": "code",
   "execution_count": 3,
   "metadata": {},
   "outputs": [
    {
     "name": "stderr",
     "output_type": "stream",
     "text": [
      "\u001b[32m2023-10-15 16:17:55.630\u001b[0m | \u001b[1mINFO    \u001b[0m | \u001b[36m__main__\u001b[0m:\u001b[36m<module>\u001b[0m:\u001b[36m6\u001b[0m - \u001b[1mResults have been successfully written to dumps/results/mexico-city_vs_buenos-aires_2023_10.txt\u001b[0m\n"
     ]
    }
   ],
   "source": [
    "file_name = f\"dumps/results/{city_1}_vs_{city_2}_{datetime.now().strftime('%Y_%m')}.txt\"\n",
    "\n",
    "with open(file_name, \"w\") as f:\n",
    "    f.write(\"\\n\".join(results))\n",
    "\n",
    "logger.info(f\"Results have been successfully written to {file_name}\")"
   ]
  },
  {
   "cell_type": "code",
   "execution_count": null,
   "metadata": {},
   "outputs": [],
   "source": []
  }
 ],
 "metadata": {
  "kernelspec": {
   "display_name": "env",
   "language": "python",
   "name": "python3"
  },
  "language_info": {
   "codemirror_mode": {
    "name": "ipython",
    "version": 3
   },
   "file_extension": ".py",
   "mimetype": "text/x-python",
   "name": "python",
   "nbconvert_exporter": "python",
   "pygments_lexer": "ipython3",
   "version": "3.10.12"
  }
 },
 "nbformat": 4,
 "nbformat_minor": 2
}

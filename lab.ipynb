{
 "cells": [
  {
   "cell_type": "code",
   "execution_count": 1,
   "metadata": {},
   "outputs": [
    {
     "name": "stderr",
     "output_type": "stream",
     "text": [
      "\u001b[32m2023-10-10 20:57:11.061\u001b[0m | \u001b[34m\u001b[1mDEBUG   \u001b[0m | \u001b[36mutils.cost_getter\u001b[0m:\u001b[36mget_city_costs\u001b[0m:\u001b[36m59\u001b[0m - \u001b[34m\u001b[1msaved 52 costs to pickle file from url\u001b[0m\n",
      "\u001b[32m2023-10-10 20:57:11.643\u001b[0m | \u001b[34m\u001b[1mDEBUG   \u001b[0m | \u001b[36mutils.cost_getter\u001b[0m:\u001b[36mget_city_costs\u001b[0m:\u001b[36m59\u001b[0m - \u001b[34m\u001b[1msaved 52 costs to pickle file from url\u001b[0m\n"
     ]
    }
   ],
   "source": [
    "from utils.cost_getter import get_city_costs\n",
    "\n",
    "mx_data = get_city_costs(\"mexico-city\")\n",
    "ba_data = get_city_costs('buenos-aires')"
   ]
  },
  {
   "cell_type": "code",
   "execution_count": null,
   "metadata": {},
   "outputs": [],
   "source": []
  }
 ],
 "metadata": {
  "kernelspec": {
   "display_name": "env",
   "language": "python",
   "name": "python3"
  },
  "language_info": {
   "codemirror_mode": {
    "name": "ipython",
    "version": 3
   },
   "file_extension": ".py",
   "mimetype": "text/x-python",
   "name": "python",
   "nbconvert_exporter": "python",
   "pygments_lexer": "ipython3",
   "version": "3.10.12"
  }
 },
 "nbformat": 4,
 "nbformat_minor": 2
}
